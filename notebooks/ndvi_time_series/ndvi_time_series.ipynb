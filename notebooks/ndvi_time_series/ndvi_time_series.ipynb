{
 "cells": [
  {
   "cell_type": "markdown",
   "metadata": {},
   "source": [
    "# NDVI Time Series Analysis with OpenEO\n",
    "\n",
    "This notebook demonstrates how to extract and analyze Normalized Difference Vegetation Index (NDVI) time series for agricultural parcels using Sentinel-2 imagery and the OpenEO API.\n",
    "\n",
    "## Overview\n",
    "\n",
    "In this notebook, we will:\n",
    "1. Connect to an OpenEO backend service\n",
    "2. Define agricultural field geometries \n",
    "3. Load Sentinel-2 imagery for a specific time period\n",
    "4. Calculate NDVI from red and near-infrared bands\n",
    "5. Extract time series data by aggregating NDVI values over field geometries\n",
    "6. Visualize and analyze the resulting time series\n",
    "\n",
    "## What is NDVI?\n",
    "\n",
    "The Normalized Difference Vegetation Index (NDVI) is a simple but effective index for quantifying vegetation greenness. It uses the contrast between the red and near-infrared reflectance of vegetation.\n",
    "\n",
    "NDVI is calculated as: (NIR - Red) / (NIR + Red)\n",
    "\n",
    "NDVI values range from -1 to 1:\n",
    "- Values around 0 typically represent non-vegetated areas (water, bare soil, buildings)\n",
    "- Values between 0.2 and 0.4 represent sparse vegetation\n",
    "- Values between 0.4 and 0.8 represent dense vegetation (higher values indicate healthier vegetation)\n",
    "\n",
    "NDVI time series are valuable for monitoring crop growth, detecting anomalies, and analyzing seasonal patterns."
   ]
  },
  {
   "cell_type": "markdown",
   "metadata": {},
   "source": [
    "## Import Required Libraries\n",
    "\n",
    "We begin by importing the necessary Python libraries for data processing and visualization."
   ]
  },
  {
   "cell_type": "code",
   "execution_count": 1,
   "metadata": {},
   "outputs": [],
   "source": [
    "import json\n",
    "\n",
    "import pandas as pd\n",
    "import matplotlib.pyplot as plt\n"
   ]
  },
  {
   "cell_type": "markdown",
   "metadata": {},
   "source": [
    "## Connect to OpenEO Backend\n",
    "\n",
    "Connect to a local OpenEO backend running on port 8081 and authenticate using OpenID Connect."
   ]
  },
  {
   "cell_type": "code",
   "execution_count": 2,
   "metadata": {},
   "outputs": [],
   "source": [
    "import openeo\n",
    "connection = openeo.connect(url=\"https://openeo.ds.io\").authenticate_oidc_authorization_code()"
   ]
  },
  {
   "cell_type": "markdown",
   "metadata": {},
   "source": [
    "## Define Field Geometries\n",
    "\n",
    "Below we define four agricultural field geometries as GeoJSON Polygons. These fields will be used to extract NDVI time series. The coordinates are in WGS84 (EPSG:4326) and represent fields near latitude 51.22° N, longitude 5.06° E (likely in the Netherlands or Belgium)."
   ]
  },
  {
   "cell_type": "code",
   "execution_count": 3,
   "metadata": {},
   "outputs": [],
   "source": [
    "fields = json.loads(\n",
    "    \"\"\"{\n",
    "    \"type\": \"FeatureCollection\",\n",
    "    \"features\": [\n",
    "        {\"type\": \"Feature\", \"properties\": {}, \"geometry\": {\"type\": \"Polygon\", \"coordinates\": [[[5.055945487931457, 51.222709834076504], [5.064972484168688, 51.221122565090525], [5.064972484168688, 51.221122565090525], [5.067474954083448, 51.218249806779134], [5.064827929485983, 51.21689628072789], [5.05917785594747, 51.217191909908095], [5.053553857094518, 51.21807492332223], [5.055945487931457, 51.222709834076504]]]}},\n",
    "        {\"type\": \"Feature\", \"properties\": {}, \"geometry\": {\"type\": \"Polygon\", \"coordinates\": [[[5.063345886679116, 51.23087606640057], [5.06604742694687, 51.22886710731809], [5.070627820472246, 51.22874440121892], [5.068403609708207, 51.22657208381529], [5.064823257492447, 51.22676051738515], [5.064892324615199, 51.2283032878514], [5.063641745941974, 51.2285757299238], [5.062340811262595, 51.227722351687945], [5.06076005158084, 51.228042312276536], [5.063345886679116, 51.23087606640057]]]}},\n",
    "        {\"type\": \"Feature\", \"properties\": {}, \"geometry\": {\"type\": \"Polygon\", \"coordinates\": [[[5.07163184674986, 51.23481147556147], [5.076706025697324, 51.23317590781036], [5.077828303041866, 51.233226237184724], [5.078024733866917, 51.23263978271262], [5.080771081607657, 51.23259097170763], [5.083734842574312, 51.23530464074437], [5.080957826735458, 51.23646091560258], [5.079752631651647, 51.23519531038643], [5.077238400183506, 51.23490534677628], [5.072856439300575, 51.23593546777778], [5.07163184674986, 51.23481147556147]]]}},\n",
    "        {\"type\": \"Feature\", \"properties\": {}, \"geometry\": {\"type\": \"Polygon\", \"coordinates\": [[[5.083897244679042, 51.23510639883143], [5.081302408741335, 51.232922477780846], [5.082963802194108, 51.233146058575876], [5.084497702305552, 51.232672717580655], [5.085732850338428, 51.2340852086282], [5.083897244679042, 51.23510639883143]]]}}\n",
    "    ]}\n",
    "\"\"\"\n",
    ")"
   ]
  },
  {
   "cell_type": "markdown",
   "metadata": {},
   "source": [
    "## Load Sentinel-2 Data and Calculate NDVI\n",
    "\n",
    "Here we load Sentinel-2 L2A data for a 2-month period (June-August 2020) covering our area of interest. We select only the red (B04) and near-infrared (B08) bands at 10m resolution, as these are needed for NDVI calculation.\n",
    "\n",
    "The spatial extent is defined to cover all our field geometries with a small buffer."
   ]
  },
  {
   "cell_type": "code",
   "execution_count": 4,
   "metadata": {},
   "outputs": [
    {
     "name": "stderr",
     "output_type": "stream",
     "text": [
      "/home/emathot/Workspace/DevelopmentSeed/titiler-openeo/.venv/lib/python3.10/site-packages/openeo/rest/connection.py:1140: UserWarning: sentinel-2-l2a property filtering with properties that are undefined in the collection metadata (summaries): eo:cloud_cover.\n",
      "  return DataCube.load_collection(\n"
     ]
    }
   ],
   "source": [
    "s2cube = connection.load_collection(\n",
    "    \"sentinel-2-l2a\",\n",
    "    temporal_extent=[\"2020-04-01\", \"2020-10-01\"],\n",
    "    spatial_extent={\"west\": 5.05, \"south\": 51.21, \"east\": 5.09, \"north\": 51.24},\n",
    "    bands=[\"B04_10m\", \"B08_10m\"],\n",
    "    max_cloud_cover=20,\n",
    ")\n",
    "\n",
    "# Extract individual bands\n",
    "red = s2cube.band(\"B04_10m\")\n",
    "nir = s2cube.band(\"B08_10m\")\n",
    "\n",
    "# Calculate NDVI using the formula: (NIR - Red) / (NIR + Red)\n",
    "ndvi = (nir - red) / (nir + red)"
   ]
  },
  {
   "cell_type": "markdown",
   "metadata": {},
   "source": [
    "## Extract Time Series for Each Field\n",
    "\n",
    "Now we aggregate the NDVI values spatially for each field geometry using the mean as our reducer function. This gives us the average NDVI value within each field for each available date in our time period.\n",
    "\n",
    "The result is a time series of NDVI values for each field."
   ]
  },
  {
   "cell_type": "code",
   "execution_count": 5,
   "metadata": {},
   "outputs": [],
   "source": [
    "timeseries = ndvi.aggregate_spatial(geometries=fields, reducer=\"mean\")"
   ]
  },
  {
   "cell_type": "markdown",
   "metadata": {},
   "source": [
    "## Download and Preview Time Series Data\n",
    "\n",
    "We download the time series data as a CSV file and preview the first few rows to understand its structure."
   ]
  },
  {
   "cell_type": "code",
   "execution_count": 6,
   "metadata": {},
   "outputs": [
    {
     "data": {
      "text/html": [
       "<div>\n",
       "<style scoped>\n",
       "    .dataframe tbody tr th:only-of-type {\n",
       "        vertical-align: middle;\n",
       "    }\n",
       "\n",
       "    .dataframe tbody tr th {\n",
       "        vertical-align: top;\n",
       "    }\n",
       "\n",
       "    .dataframe thead th {\n",
       "        text-align: right;\n",
       "    }\n",
       "</style>\n",
       "<table border=\"1\" class=\"dataframe\">\n",
       "  <thead>\n",
       "    <tr style=\"text-align: right;\">\n",
       "      <th></th>\n",
       "      <th>feature_index</th>\n",
       "      <th>value</th>\n",
       "    </tr>\n",
       "    <tr>\n",
       "      <th>date</th>\n",
       "      <th></th>\n",
       "      <th></th>\n",
       "    </tr>\n",
       "  </thead>\n",
       "  <tbody>\n",
       "    <tr>\n",
       "      <th>2020-09-22T10:46:49.025Z</th>\n",
       "      <td>0</td>\n",
       "      <td>0.426953</td>\n",
       "    </tr>\n",
       "    <tr>\n",
       "      <th>2020-09-19T10:36:49.024Z</th>\n",
       "      <td>0</td>\n",
       "      <td>0.423887</td>\n",
       "    </tr>\n",
       "    <tr>\n",
       "      <th>2020-09-17T10:50:31.024Z</th>\n",
       "      <td>0</td>\n",
       "      <td>0.420011</td>\n",
       "    </tr>\n",
       "    <tr>\n",
       "      <th>2020-09-14T10:40:31.024Z</th>\n",
       "      <td>0</td>\n",
       "      <td>0.395836</td>\n",
       "    </tr>\n",
       "    <tr>\n",
       "      <th>2020-09-12T10:46:29.024Z</th>\n",
       "      <td>0</td>\n",
       "      <td>0.376717</td>\n",
       "    </tr>\n",
       "  </tbody>\n",
       "</table>\n",
       "</div>"
      ],
      "text/plain": [
       "                          feature_index     value\n",
       "date                                             \n",
       "2020-09-22T10:46:49.025Z              0  0.426953\n",
       "2020-09-19T10:36:49.024Z              0  0.423887\n",
       "2020-09-17T10:50:31.024Z              0  0.420011\n",
       "2020-09-14T10:40:31.024Z              0  0.395836\n",
       "2020-09-12T10:46:29.024Z              0  0.376717"
      ]
     },
     "execution_count": 6,
     "metadata": {},
     "output_type": "execute_result"
    }
   ],
   "source": [
    "timeseries.download(\"timeseries-basic.csv\", format=\"csv\")\n",
    "pd.read_csv(\"timeseries-basic.csv\", index_col=0).head()"
   ]
  },
  {
   "cell_type": "markdown",
   "metadata": {},
   "source": [
    "## Visualize Time Series\n",
    "\n",
    "This function helps us visualize the NDVI time series for all fields. The plot shows the temporal evolution of NDVI for each field, allowing us to compare vegetation growth patterns between fields."
   ]
  },
  {
   "cell_type": "code",
   "execution_count": 7,
   "metadata": {},
   "outputs": [
    {
     "data": {
      "image/png": "[encoded data removed]",
      "text/plain": [
       "<Figure size 540x270 with 1 Axes>"
      ]
     },
     "metadata": {},
     "output_type": "display_data"
    }
   ],
   "source": [
    "def plot_timeseries(filename, figsize=(6, 3)):\n",
    "    \"\"\"Plot NDVI time series from a CSV file\n",
    "\n",
    "    Parameters:\n",
    "    ----------\n",
    "    filename : str\n",
    "        Path to the CSV file containing time series data\n",
    "    figsize : tuple, optional\n",
    "        Figure size as (width, height) in inches\n",
    "    \"\"\"\n",
    "    df = pd.read_csv(filename, index_col=0)\n",
    "    df.index = pd.to_datetime(df.index)  # Convert index to datetime format\n",
    "\n",
    "    fig, ax = plt.subplots(figsize=figsize, dpi=90)\n",
    "    df.groupby(\"feature_index\")[\"value\"].plot(marker=\"o\", ax=ax)\n",
    "    ax.set_title(filename.split(\"/\")[-1])\n",
    "    ax.set_ylabel(\"NDVI\")\n",
    "    ax.set_ylim(0, 1)  # NDVI typically ranges from 0 to 1 for vegetation\n",
    "    ax.legend(title=\"parcel id\", loc=\"lower left\", ncol=2)\n",
    "\n",
    "\n",
    "plot_timeseries(\"timeseries-basic.csv\")"
   ]
  },
  {
   "cell_type": "markdown",
   "metadata": {},
   "source": [
    "## Conclusion\n",
    "\n",
    "This notebook demonstrates a complete workflow for extracting and analyzing NDVI time series from Sentinel-2 imagery using OpenEO. The approach can be extended to:\n",
    "\n",
    "- Analyze longer time periods to study seasonal patterns\n",
    "- Include additional vegetation indices beyond NDVI\n",
    "- Apply filtering or smoothing to handle noise in the time series\n",
    "- Implement anomaly detection to identify unusual growth patterns\n",
    "- Extract growth parameters such as start of season, peak of season, etc.\n",
    "\n",
    "NDVI time series analysis is valuable for a range of applications including crop monitoring, yield estimation, drought assessment, and phenological studies."
   ]
  }
 ],
 "metadata": {
  "kernelspec": {
   "display_name": ".venv",
   "language": "python",
   "name": "python3"
  },
  "language_info": {
   "codemirror_mode": {
    "name": "ipython",
    "version": 3
   },
   "file_extension": ".py",
   "mimetype": "text/x-python",
   "name": "python",
   "nbconvert_exporter": "python",
   "pygments_lexer": "ipython3",
   "version": "3.10.12"
  }
 },
 "nbformat": 4,
 "nbformat_minor": 4
}
