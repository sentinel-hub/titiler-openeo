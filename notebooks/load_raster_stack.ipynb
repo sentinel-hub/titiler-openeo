{
 "cells": [
  {
   "cell_type": "markdown",
   "metadata": {},
   "source": [
    "# STAC Collections and Items\n",
    "\n",
    "With the `load_stac` process it's possible to load and use data provided by remote or local STAC Collections or Items. The following code snippet loads Sentinel-2 L2A data from a public STAC Catalog, using specific spatial and temporal extent, band name and also properties for cloud coverage."
   ]
  },
  {
   "cell_type": "code",
   "execution_count": null,
   "metadata": {},
   "outputs": [],
   "source": [
    "import openeo\n",
    "\n",
    "# Connect to the back-end\n",
    "connection = openeo.connect(\"http://127.0.0.1:8081/\")\n",
    "# ToDo: Here you need to authenticate with authenticate_basic() or authenticate_oidc()\n",
    "connection.authenticate_oidc()\n",
    "\n",
    "url = \"https://stac.dataspace.copernicus.eu/v1/collections/sentinel-2-l2a\"\n",
    "spatial_extent = {\"west\": 11, \"east\": 12, \"south\": 46, \"north\": 47}\n",
    "temporal_extent = [\"2019-01-01\", \"2019-01-15\"]\n",
    "bands = [\"B04_60m\"]\n",
    "properties = {\"eo:cloud_cover\": dict(lt=50)}\n",
    "s2_cube = connection.load_stac(url=url,\n",
    "    spatial_extent=spatial_extent,\n",
    "    temporal_extent=temporal_extent,\n",
    "    bands=bands,\n",
    "    # properties=properties,\n",
    ")\n",
    "s2_cube.execute()"
   ]
  }
 ],
 "metadata": {
  "kernelspec": {
   "display_name": ".venv",
   "language": "python",
   "name": "python3"
  },
  "language_info": {
   "codemirror_mode": {
    "name": "ipython",
    "version": 3
   },
   "file_extension": ".py",
   "mimetype": "text/x-python",
   "name": "python",
   "nbconvert_exporter": "python",
   "pygments_lexer": "ipython3",
   "version": "3.10.12"
  }
 },
 "nbformat": 4,
 "nbformat_minor": 2
}
