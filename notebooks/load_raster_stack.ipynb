{
 "cells": [
  {
   "cell_type": "code",
   "execution_count": null,
   "metadata": {},
   "outputs": [
    {
     "name": "stdout",
     "output_type": "stream",
     "text": [
      "Authenticated using refresh token.\n"
     ]
    },
    {
     "ename": "ValueError",
     "evalue": "{'lt': 50}",
     "output_type": "error",
     "traceback": [
      "\u001b[0;31m---------------------------------------------------------------------------\u001b[0m",
      "\u001b[0;31mValueError\u001b[0m                                Traceback (most recent call last)",
      "Cell \u001b[0;32mIn[26], line 13\u001b[0m\n\u001b[1;32m     11\u001b[0m bands \u001b[38;5;241m=\u001b[39m [\u001b[38;5;124m\"\u001b[39m\u001b[38;5;124mB04_60m\u001b[39m\u001b[38;5;124m\"\u001b[39m]\n\u001b[1;32m     12\u001b[0m properties \u001b[38;5;241m=\u001b[39m {\u001b[38;5;124m\"\u001b[39m\u001b[38;5;124meo:cloud_cover\u001b[39m\u001b[38;5;124m\"\u001b[39m: \u001b[38;5;28mdict\u001b[39m(lt\u001b[38;5;241m=\u001b[39m\u001b[38;5;241m50\u001b[39m)}\n\u001b[0;32m---> 13\u001b[0m s2_cube \u001b[38;5;241m=\u001b[39m \u001b[43mconnection\u001b[49m\u001b[38;5;241;43m.\u001b[39;49m\u001b[43mload_stac\u001b[49m\u001b[43m(\u001b[49m\u001b[43murl\u001b[49m\u001b[38;5;241;43m=\u001b[39;49m\u001b[43murl\u001b[49m\u001b[43m,\u001b[49m\n\u001b[1;32m     14\u001b[0m \u001b[43m    \u001b[49m\u001b[43mspatial_extent\u001b[49m\u001b[38;5;241;43m=\u001b[39;49m\u001b[43mspatial_extent\u001b[49m\u001b[43m,\u001b[49m\n\u001b[1;32m     15\u001b[0m \u001b[43m    \u001b[49m\u001b[43mtemporal_extent\u001b[49m\u001b[38;5;241;43m=\u001b[39;49m\u001b[43mtemporal_extent\u001b[49m\u001b[43m,\u001b[49m\n\u001b[1;32m     16\u001b[0m \u001b[43m    \u001b[49m\u001b[43mbands\u001b[49m\u001b[38;5;241;43m=\u001b[39;49m\u001b[43mbands\u001b[49m\u001b[43m,\u001b[49m\n\u001b[1;32m     17\u001b[0m \u001b[43m    \u001b[49m\u001b[43mproperties\u001b[49m\u001b[38;5;241;43m=\u001b[39;49m\u001b[43mproperties\u001b[49m\u001b[43m,\u001b[49m\n\u001b[1;32m     18\u001b[0m \u001b[43m)\u001b[49m\n\u001b[1;32m     19\u001b[0m s2_cube\u001b[38;5;241m.\u001b[39mdownload(\u001b[38;5;124m\"\u001b[39m\u001b[38;5;124ms2_red.tiff\u001b[39m\u001b[38;5;124m\"\u001b[39m, \u001b[38;5;28mformat\u001b[39m\u001b[38;5;241m=\u001b[39m\u001b[38;5;124m\"\u001b[39m\u001b[38;5;124mGTiff\u001b[39m\u001b[38;5;124m\"\u001b[39m)\n",
      "File \u001b[0;32m~/Workspace/DevelopmentSeed/titiler-openeo/.venv/lib/python3.10/site-packages/openeo/rest/connection.py:1450\u001b[0m, in \u001b[0;36mConnection.load_stac\u001b[0;34m(self, url, spatial_extent, temporal_extent, bands, properties)\u001b[0m\n\u001b[1;32m   1343\u001b[0m \u001b[38;5;129m@openeo_process\u001b[39m\n\u001b[1;32m   1344\u001b[0m \u001b[38;5;28;01mdef\u001b[39;00m \u001b[38;5;21mload_stac\u001b[39m(\n\u001b[1;32m   1345\u001b[0m     \u001b[38;5;28mself\u001b[39m,\n\u001b[0;32m   (...)\u001b[0m\n\u001b[1;32m   1350\u001b[0m     properties: Optional[Dict[\u001b[38;5;28mstr\u001b[39m, Union[\u001b[38;5;28mstr\u001b[39m, PGNode, Callable]]] \u001b[38;5;241m=\u001b[39m \u001b[38;5;28;01mNone\u001b[39;00m,\n\u001b[1;32m   1351\u001b[0m ) \u001b[38;5;241m-\u001b[39m\u001b[38;5;241m>\u001b[39m DataCube:\n\u001b[1;32m   1352\u001b[0m \u001b[38;5;250m    \u001b[39m\u001b[38;5;124;03m\"\"\"\u001b[39;00m\n\u001b[1;32m   1353\u001b[0m \u001b[38;5;124;03m    Loads data from a static STAC catalog or a STAC API Collection and returns the data as a processable :py:class:`DataCube`.\u001b[39;00m\n\u001b[1;32m   1354\u001b[0m \u001b[38;5;124;03m    A batch job result can be loaded by providing a reference to it.\u001b[39;00m\n\u001b[0;32m   (...)\u001b[0m\n\u001b[1;32m   1448\u001b[0m \u001b[38;5;124;03m        as discussed at :ref:`date-shorthand-handling`.\u001b[39;00m\n\u001b[1;32m   1449\u001b[0m \u001b[38;5;124;03m    \"\"\"\u001b[39;00m\n\u001b[0;32m-> 1450\u001b[0m     \u001b[38;5;28;01mreturn\u001b[39;00m \u001b[43mDataCube\u001b[49m\u001b[38;5;241;43m.\u001b[39;49m\u001b[43mload_stac\u001b[49m\u001b[43m(\u001b[49m\n\u001b[1;32m   1451\u001b[0m \u001b[43m        \u001b[49m\u001b[43murl\u001b[49m\u001b[38;5;241;43m=\u001b[39;49m\u001b[43murl\u001b[49m\u001b[43m,\u001b[49m\n\u001b[1;32m   1452\u001b[0m \u001b[43m        \u001b[49m\u001b[43mspatial_extent\u001b[49m\u001b[38;5;241;43m=\u001b[39;49m\u001b[43mspatial_extent\u001b[49m\u001b[43m,\u001b[49m\n\u001b[1;32m   1453\u001b[0m \u001b[43m        \u001b[49m\u001b[43mtemporal_extent\u001b[49m\u001b[38;5;241;43m=\u001b[39;49m\u001b[43mtemporal_extent\u001b[49m\u001b[43m,\u001b[49m\n\u001b[1;32m   1454\u001b[0m \u001b[43m        \u001b[49m\u001b[43mbands\u001b[49m\u001b[38;5;241;43m=\u001b[39;49m\u001b[43mbands\u001b[49m\u001b[43m,\u001b[49m\n\u001b[1;32m   1455\u001b[0m \u001b[43m        \u001b[49m\u001b[43mproperties\u001b[49m\u001b[38;5;241;43m=\u001b[39;49m\u001b[43mproperties\u001b[49m\u001b[43m,\u001b[49m\n\u001b[1;32m   1456\u001b[0m \u001b[43m        \u001b[49m\u001b[43mconnection\u001b[49m\u001b[38;5;241;43m=\u001b[39;49m\u001b[38;5;28;43mself\u001b[39;49m\u001b[43m,\u001b[49m\n\u001b[1;32m   1457\u001b[0m \u001b[43m    \u001b[49m\u001b[43m)\u001b[49m\n",
      "File \u001b[0;32m~/Workspace/DevelopmentSeed/titiler-openeo/.venv/lib/python3.10/site-packages/openeo/rest/datacube.py:385\u001b[0m, in \u001b[0;36mDataCube.load_stac\u001b[0;34m(cls, url, spatial_extent, temporal_extent, bands, properties, connection)\u001b[0m\n\u001b[1;32m    383\u001b[0m     arguments[\u001b[38;5;124m\"\u001b[39m\u001b[38;5;124mbands\u001b[39m\u001b[38;5;124m\"\u001b[39m] \u001b[38;5;241m=\u001b[39m bands\n\u001b[1;32m    384\u001b[0m \u001b[38;5;28;01mif\u001b[39;00m properties:\n\u001b[0;32m--> 385\u001b[0m     arguments[\u001b[38;5;124m\"\u001b[39m\u001b[38;5;124mproperties\u001b[39m\u001b[38;5;124m\"\u001b[39m] \u001b[38;5;241m=\u001b[39m {\n\u001b[1;32m    386\u001b[0m         prop: build_child_callback(pred, parent_parameters\u001b[38;5;241m=\u001b[39m[\u001b[38;5;124m\"\u001b[39m\u001b[38;5;124mvalue\u001b[39m\u001b[38;5;124m\"\u001b[39m]) \u001b[38;5;28;01mfor\u001b[39;00m prop, pred \u001b[38;5;129;01min\u001b[39;00m properties\u001b[38;5;241m.\u001b[39mitems()\n\u001b[1;32m    387\u001b[0m     }\n\u001b[1;32m    388\u001b[0m graph \u001b[38;5;241m=\u001b[39m PGNode(\u001b[38;5;124m\"\u001b[39m\u001b[38;5;124mload_stac\u001b[39m\u001b[38;5;124m\"\u001b[39m, arguments\u001b[38;5;241m=\u001b[39marguments)\n\u001b[1;32m    389\u001b[0m \u001b[38;5;28;01mtry\u001b[39;00m:\n",
      "File \u001b[0;32m~/Workspace/DevelopmentSeed/titiler-openeo/.venv/lib/python3.10/site-packages/openeo/rest/datacube.py:386\u001b[0m, in \u001b[0;36m<dictcomp>\u001b[0;34m(.0)\u001b[0m\n\u001b[1;32m    383\u001b[0m     arguments[\u001b[38;5;124m\"\u001b[39m\u001b[38;5;124mbands\u001b[39m\u001b[38;5;124m\"\u001b[39m] \u001b[38;5;241m=\u001b[39m bands\n\u001b[1;32m    384\u001b[0m \u001b[38;5;28;01mif\u001b[39;00m properties:\n\u001b[1;32m    385\u001b[0m     arguments[\u001b[38;5;124m\"\u001b[39m\u001b[38;5;124mproperties\u001b[39m\u001b[38;5;124m\"\u001b[39m] \u001b[38;5;241m=\u001b[39m {\n\u001b[0;32m--> 386\u001b[0m         prop: \u001b[43mbuild_child_callback\u001b[49m\u001b[43m(\u001b[49m\u001b[43mpred\u001b[49m\u001b[43m,\u001b[49m\u001b[43m \u001b[49m\u001b[43mparent_parameters\u001b[49m\u001b[38;5;241;43m=\u001b[39;49m\u001b[43m[\u001b[49m\u001b[38;5;124;43m\"\u001b[39;49m\u001b[38;5;124;43mvalue\u001b[39;49m\u001b[38;5;124;43m\"\u001b[39;49m\u001b[43m]\u001b[49m\u001b[43m)\u001b[49m \u001b[38;5;28;01mfor\u001b[39;00m prop, pred \u001b[38;5;129;01min\u001b[39;00m properties\u001b[38;5;241m.\u001b[39mitems()\n\u001b[1;32m    387\u001b[0m     }\n\u001b[1;32m    388\u001b[0m graph \u001b[38;5;241m=\u001b[39m PGNode(\u001b[38;5;124m\"\u001b[39m\u001b[38;5;124mload_stac\u001b[39m\u001b[38;5;124m\"\u001b[39m, arguments\u001b[38;5;241m=\u001b[39marguments)\n\u001b[1;32m    389\u001b[0m \u001b[38;5;28;01mtry\u001b[39;00m:\n",
      "File \u001b[0;32m~/Workspace/DevelopmentSeed/titiler-openeo/.venv/lib/python3.10/site-packages/openeo/rest/_datacube.py:321\u001b[0m, in \u001b[0;36mbuild_child_callback\u001b[0;34m(process, parent_parameters, connection)\u001b[0m\n\u001b[1;32m    319\u001b[0m     pg \u001b[38;5;241m=\u001b[39m process[\u001b[38;5;124m\"\u001b[39m\u001b[38;5;124mprocess_graph\u001b[39m\u001b[38;5;124m\"\u001b[39m]\n\u001b[1;32m    320\u001b[0m \u001b[38;5;28;01melse\u001b[39;00m:\n\u001b[0;32m--> 321\u001b[0m     \u001b[38;5;28;01mraise\u001b[39;00m \u001b[38;5;167;01mValueError\u001b[39;00m(process)\n\u001b[1;32m    323\u001b[0m \u001b[38;5;28;01mreturn\u001b[39;00m PGNode\u001b[38;5;241m.\u001b[39mto_process_graph_argument(pg)\n",
      "\u001b[0;31mValueError\u001b[0m: {'lt': 50}"
     ]
    }
   ],
   "source": [
    "import openeo\n",
    "\n",
    "# Connect to the back-end\n",
    "connection = openeo.connect(\"http://127.0.0.1:8081/\")\n",
    "# ToDo: Here you need to authenticate with authenticate_basic() or authenticate_oidc()\n",
    "connection.authenticate_oidc()\n",
    "\n",
    "url = \"https://stac.dataspace.copernicus.eu/v1/collections/sentinel-2-l2a\"\n",
    "spatial_extent = {\"west\": 11, \"east\": 12, \"south\": 46, \"north\": 47}\n",
    "temporal_extent = [\"2019-01-01\", \"2019-06-15\"]\n",
    "bands = [\"B04_60m\"]\n",
    "properties = {\"eo:cloud_cover\": dict(lt=50)}\n",
    "s2_cube = connection.load_stac(url=url,\n",
    "    spatial_extent=spatial_extent,\n",
    "    temporal_extent=temporal_extent,\n",
    "    bands=bands,\n",
    "    # properties=properties,\n",
    ")\n",
    "s2_cube.download(\"s2_red.tiff\", format=\"GTiff\")"
   ]
  }
 ],
 "metadata": {
  "kernelspec": {
   "display_name": ".venv",
   "language": "python",
   "name": "python3"
  },
  "language_info": {
   "codemirror_mode": {
    "name": "ipython",
    "version": 3
   },
   "file_extension": ".py",
   "mimetype": "text/x-python",
   "name": "python",
   "nbconvert_exporter": "python",
   "pygments_lexer": "ipython3",
   "version": "3.10.12"
  }
 },
 "nbformat": 4,
 "nbformat_minor": 2
}
