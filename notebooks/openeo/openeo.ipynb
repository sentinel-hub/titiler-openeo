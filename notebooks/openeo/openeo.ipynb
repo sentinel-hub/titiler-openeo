{
 "cells": [
  {
   "cell_type": "code",
   "execution_count": 2,
   "metadata": {},
   "outputs": [],
   "source": [
    "import openeo"
   ]
  },
  {
   "cell_type": "code",
   "execution_count": 4,
   "metadata": {},
   "outputs": [
    {
     "data": {
      "text/plain": [
       "<Connection to 'http://127.0.0.1:8080/' with NullAuth>"
      ]
     },
     "execution_count": 4,
     "metadata": {},
     "output_type": "execute_result"
    }
   ],
   "source": [
    "connection = openeo.connect(\"http://127.0.0.1:8080\")\n",
    "connection"
   ]
  },
  {
   "cell_type": "code",
   "execution_count": 8,
   "metadata": {},
   "outputs": [
    {
     "data": {
      "text/html": [
       "\n",
       "    <script>\n",
       "    if (!window.customElements || !window.customElements.get('openeo-collections')) {\n",
       "        var el = document.createElement('script');\n",
       "        el.src = \"https://cdn.jsdelivr.net/npm/@openeo/vue-components@2/assets/openeo.min.js\";\n",
       "        document.head.appendChild(el);\n",
       "\n",
       "        var font = document.createElement('font');\n",
       "        font.as = \"font\";\n",
       "        font.type = \"font/woff2\";\n",
       "        font.crossOrigin = true;\n",
       "        font.href = \"https://use.fontawesome.com/releases/v5.13.0/webfonts/fa-solid-900.woff2\"\n",
       "        document.head.appendChild(font);\n",
       "    }\n",
       "    </script>\n",
       "    <openeo-collections>\n",
       "        <script type=\"application/json\">{\"mapOptions\": {}, \"collections\": [{\"stac_version\": \"1.0.0\", \"stac_extensions\": [\"https://stac-extensions.github.io/eo/v2.0.0/schema.json\", \"https://stac-extensions.github.io/authentication/v1.1.0/schema.json\", \"https://stac-extensions.github.io/projection/v2.0.0/schema.json\", \"https://stac-extensions.github.io/processing/v1.2.0/schema.json\", \"https://stac-extensions.github.io/product/v0.1.0/schema.json\", \"https://stac-extensions.github.io/scientific/v1.0.0/schema.json\", \"https://stac-extensions.github.io/alternate-assets/v1.2.0/schema.json\", \"https://stac-extensions.github.io/raster/v2.0.0/schema.json\", \"https://stac-extensions.github.io/sat/v1.0.0/schema.json\", \"https://stac-extensions.github.io/classification/v2.0.0/schema.json\", \"https://stac-extensions.github.io/ceos-ard/v0.2.0/schema.json\", \"https://stac-extensions.github.io/storage/v2.0.0/schema.json\"], \"type\": \"Collection\", \"id\": \"sentinel-2-l2a\", \"title\": \"Sentinel-2 Level-2A\", \"description\": \"The Sentinel-2 Level-2A Collection 1 product provides orthorectified Surface Reflectance (Bottom-Of-Atmosphere: BOA), with sub-pixel multispectral and multitemporal registration accuracy. Scene Classification (including Clouds and Cloud Shadows), AOT (Aerosol Optical Thickness) and WV (Water Vapour) maps are included in the product.\", \"keywords\": [\"Copernicus\", \"Sentinel\", \"EU\", \"ESA\", \"Satellite\", \"Global\", \"Imagery\", \"Reflectance\"], \"deprecated\": false, \"license\": \"other\", \"providers\": [{\"name\": \"ESA\", \"roles\": [\"producer\"], \"url\": \"https://sentinels.copernicus.eu/web/sentinel/missions/sentinel-2\"}, {\"name\": \"European Commission\", \"roles\": [\"licensor\"], \"url\": \"https://commission.europa.eu/\"}, {\"name\": \"CloudFerro\", \"roles\": [\"host\", \"processor\"], \"url\": \"https://cloudferro.com/\"}], \"extent\": {\"spatial\": {\"bbox\": [[-180.0, -90.0, 180.0, 90.0]]}, \"temporal\": {\"interval\": [[\"2015-06-27T10:25:31Z\", null]]}}, \"links\": [], \"summaries\": {\"gsd\": [10], \"platform\": [\"sentinel-2a\", \"sentinel-2b\"], \"instruments\": [\"msi\"], \"product:type\": [\"S2MSI2A\"], \"constellation\": [\"sentinel-2\"], \"processing:level\": [\"L2\"], \"product:timeliness\": [\"PT24H\"], \"product:timeliness_category\": [\"NRT\"], \"sat:platform_international_designator\": [\"2015-028A\", \"2017-013A\"], \"statistics\": {\"$schema\": \"http://json-schema.org/draft-07/schema#\", \"type\": \"object\", \"minItems\": 0.0}}, \"assets\": {\"thumbnail\": {\"href\": \"https://s3.waw3-2.cloudferro.com/swift/v1/stac-png/S2_L2A.jpg\", \"title\": \"Sentinel-2 Level-2A\", \"type\": \"image/jpeg\", \"roles\": [\"thumbnail\"]}}}]}</script>\n",
       "    </openeo-collections>\n",
       "    "
      ],
      "text/plain": [
       "[{'stac_version': '1.0.0',\n",
       "  'stac_extensions': ['https://stac-extensions.github.io/eo/v2.0.0/schema.json',\n",
       "   'https://stac-extensions.github.io/authentication/v1.1.0/schema.json',\n",
       "   'https://stac-extensions.github.io/projection/v2.0.0/schema.json',\n",
       "   'https://stac-extensions.github.io/processing/v1.2.0/schema.json',\n",
       "   'https://stac-extensions.github.io/product/v0.1.0/schema.json',\n",
       "   'https://stac-extensions.github.io/scientific/v1.0.0/schema.json',\n",
       "   'https://stac-extensions.github.io/alternate-assets/v1.2.0/schema.json',\n",
       "   'https://stac-extensions.github.io/raster/v2.0.0/schema.json',\n",
       "   'https://stac-extensions.github.io/sat/v1.0.0/schema.json',\n",
       "   'https://stac-extensions.github.io/classification/v2.0.0/schema.json',\n",
       "   'https://stac-extensions.github.io/ceos-ard/v0.2.0/schema.json',\n",
       "   'https://stac-extensions.github.io/storage/v2.0.0/schema.json'],\n",
       "  'type': 'Collection',\n",
       "  'id': 'sentinel-2-l2a',\n",
       "  'title': 'Sentinel-2 Level-2A',\n",
       "  'description': 'The Sentinel-2 Level-2A Collection 1 product provides orthorectified Surface Reflectance (Bottom-Of-Atmosphere: BOA), with sub-pixel multispectral and multitemporal registration accuracy. Scene Classification (including Clouds and Cloud Shadows), AOT (Aerosol Optical Thickness) and WV (Water Vapour) maps are included in the product.',\n",
       "  'keywords': ['Copernicus',\n",
       "   'Sentinel',\n",
       "   'EU',\n",
       "   'ESA',\n",
       "   'Satellite',\n",
       "   'Global',\n",
       "   'Imagery',\n",
       "   'Reflectance'],\n",
       "  'deprecated': False,\n",
       "  'license': 'other',\n",
       "  'providers': [{'name': 'ESA',\n",
       "    'roles': ['producer'],\n",
       "    'url': 'https://sentinels.copernicus.eu/web/sentinel/missions/sentinel-2'},\n",
       "   {'name': 'European Commission',\n",
       "    'roles': ['licensor'],\n",
       "    'url': 'https://commission.europa.eu/'},\n",
       "   {'name': 'CloudFerro',\n",
       "    'roles': ['host', 'processor'],\n",
       "    'url': 'https://cloudferro.com/'}],\n",
       "  'extent': {'spatial': {'bbox': [[-180.0, -90.0, 180.0, 90.0]]},\n",
       "   'temporal': {'interval': [['2015-06-27T10:25:31Z', None]]}},\n",
       "  'links': [],\n",
       "  'summaries': {'gsd': [10],\n",
       "   'platform': ['sentinel-2a', 'sentinel-2b'],\n",
       "   'instruments': ['msi'],\n",
       "   'product:type': ['S2MSI2A'],\n",
       "   'constellation': ['sentinel-2'],\n",
       "   'processing:level': ['L2'],\n",
       "   'product:timeliness': ['PT24H'],\n",
       "   'product:timeliness_category': ['NRT'],\n",
       "   'sat:platform_international_designator': ['2015-028A', '2017-013A'],\n",
       "   'statistics': {'$schema': 'http://json-schema.org/draft-07/schema#',\n",
       "    'type': 'object',\n",
       "    'minItems': 0.0}},\n",
       "  'assets': {'thumbnail': {'href': 'https://s3.waw3-2.cloudferro.com/swift/v1/stac-png/S2_L2A.jpg',\n",
       "    'title': 'Sentinel-2 Level-2A',\n",
       "    'type': 'image/jpeg',\n",
       "    'roles': ['thumbnail']}}}]"
      ]
     },
     "execution_count": 8,
     "metadata": {},
     "output_type": "execute_result"
    }
   ],
   "source": [
    "collections = connection.list_collections()\n",
    "collections"
   ]
  },
  {
   "cell_type": "code",
   "execution_count": null,
   "metadata": {},
   "outputs": [
    {
     "data": {
      "text/html": [
       "\n",
       "    <script>\n",
       "    if (!window.customElements || !window.customElements.get('openeo-collection')) {\n",
       "        var el = document.createElement('script');\n",
       "        el.src = \"https://cdn.jsdelivr.net/npm/@openeo/vue-components@2/assets/openeo.min.js\";\n",
       "        document.head.appendChild(el);\n",
       "\n",
       "        var font = document.createElement('font');\n",
       "        font.as = \"font\";\n",
       "        font.type = \"font/woff2\";\n",
       "        font.crossOrigin = true;\n",
       "        font.href = \"https://use.fontawesome.com/releases/v5.13.0/webfonts/fa-solid-900.woff2\"\n",
       "        document.head.appendChild(font);\n",
       "    }\n",
       "    </script>\n",
       "    <openeo-collection>\n",
       "        <script type=\"application/json\">{\"mapOptions\": {}, \"data\": {\"stac_version\": \"1.0.0\", \"stac_extensions\": [\"https://stac-extensions.github.io/eo/v2.0.0/schema.json\", \"https://stac-extensions.github.io/authentication/v1.1.0/schema.json\", \"https://stac-extensions.github.io/projection/v2.0.0/schema.json\", \"https://stac-extensions.github.io/processing/v1.2.0/schema.json\", \"https://stac-extensions.github.io/product/v0.1.0/schema.json\", \"https://stac-extensions.github.io/scientific/v1.0.0/schema.json\", \"https://stac-extensions.github.io/alternate-assets/v1.2.0/schema.json\", \"https://stac-extensions.github.io/raster/v2.0.0/schema.json\", \"https://stac-extensions.github.io/sat/v1.0.0/schema.json\", \"https://stac-extensions.github.io/classification/v2.0.0/schema.json\", \"https://stac-extensions.github.io/ceos-ard/v0.2.0/schema.json\", \"https://stac-extensions.github.io/storage/v2.0.0/schema.json\"], \"type\": \"Collection\", \"id\": \"sentinel-2-l2a\", \"title\": \"Sentinel-2 Level-2A\", \"description\": \"The Sentinel-2 Level-2A Collection 1 product provides orthorectified Surface Reflectance (Bottom-Of-Atmosphere: BOA), with sub-pixel multispectral and multitemporal registration accuracy. Scene Classification (including Clouds and Cloud Shadows), AOT (Aerosol Optical Thickness) and WV (Water Vapour) maps are included in the product.\", \"keywords\": [\"Copernicus\", \"Sentinel\", \"EU\", \"ESA\", \"Satellite\", \"Global\", \"Imagery\", \"Reflectance\"], \"deprecated\": false, \"license\": \"other\", \"providers\": [{\"name\": \"ESA\", \"roles\": [\"producer\"], \"url\": \"https://sentinels.copernicus.eu/web/sentinel/missions/sentinel-2\"}, {\"name\": \"European Commission\", \"roles\": [\"licensor\"], \"url\": \"https://commission.europa.eu/\"}, {\"name\": \"CloudFerro\", \"roles\": [\"host\", \"processor\"], \"url\": \"https://cloudferro.com/\"}], \"extent\": {\"spatial\": {\"bbox\": [[-180.0, -90.0, 180.0, 90.0]]}, \"temporal\": {\"interval\": [[\"2015-06-27T10:25:31Z\", null]]}}, \"links\": [], \"summaries\": {\"gsd\": [10], \"platform\": [\"sentinel-2a\", \"sentinel-2b\"], \"instruments\": [\"msi\"], \"product:type\": [\"S2MSI2A\"], \"constellation\": [\"sentinel-2\"], \"processing:level\": [\"L2\"], \"product:timeliness\": [\"PT24H\"], \"product:timeliness_category\": [\"NRT\"], \"sat:platform_international_designator\": [\"2015-028A\", \"2017-013A\"], \"statistics\": {\"$schema\": \"http://json-schema.org/draft-07/schema#\", \"type\": \"object\", \"minItems\": 0.0}}, \"assets\": {\"thumbnail\": {\"href\": \"https://s3.waw3-2.cloudferro.com/swift/v1/stac-png/S2_L2A.jpg\", \"title\": \"Sentinel-2 Level-2A\", \"type\": \"image/jpeg\", \"roles\": [\"thumbnail\"]}}}}</script>\n",
       "    </openeo-collection>\n",
       "    "
      ],
      "text/plain": [
       "{'stac_version': '1.0.0',\n",
       " 'stac_extensions': ['https://stac-extensions.github.io/eo/v2.0.0/schema.json',\n",
       "  'https://stac-extensions.github.io/authentication/v1.1.0/schema.json',\n",
       "  'https://stac-extensions.github.io/projection/v2.0.0/schema.json',\n",
       "  'https://stac-extensions.github.io/processing/v1.2.0/schema.json',\n",
       "  'https://stac-extensions.github.io/product/v0.1.0/schema.json',\n",
       "  'https://stac-extensions.github.io/scientific/v1.0.0/schema.json',\n",
       "  'https://stac-extensions.github.io/alternate-assets/v1.2.0/schema.json',\n",
       "  'https://stac-extensions.github.io/raster/v2.0.0/schema.json',\n",
       "  'https://stac-extensions.github.io/sat/v1.0.0/schema.json',\n",
       "  'https://stac-extensions.github.io/classification/v2.0.0/schema.json',\n",
       "  'https://stac-extensions.github.io/ceos-ard/v0.2.0/schema.json',\n",
       "  'https://stac-extensions.github.io/storage/v2.0.0/schema.json'],\n",
       " 'type': 'Collection',\n",
       " 'id': 'sentinel-2-l2a',\n",
       " 'title': 'Sentinel-2 Level-2A',\n",
       " 'description': 'The Sentinel-2 Level-2A Collection 1 product provides orthorectified Surface Reflectance (Bottom-Of-Atmosphere: BOA), with sub-pixel multispectral and multitemporal registration accuracy. Scene Classification (including Clouds and Cloud Shadows), AOT (Aerosol Optical Thickness) and WV (Water Vapour) maps are included in the product.',\n",
       " 'keywords': ['Copernicus',\n",
       "  'Sentinel',\n",
       "  'EU',\n",
       "  'ESA',\n",
       "  'Satellite',\n",
       "  'Global',\n",
       "  'Imagery',\n",
       "  'Reflectance'],\n",
       " 'deprecated': False,\n",
       " 'license': 'other',\n",
       " 'providers': [{'name': 'ESA',\n",
       "   'roles': ['producer'],\n",
       "   'url': 'https://sentinels.copernicus.eu/web/sentinel/missions/sentinel-2'},\n",
       "  {'name': 'European Commission',\n",
       "   'roles': ['licensor'],\n",
       "   'url': 'https://commission.europa.eu/'},\n",
       "  {'name': 'CloudFerro',\n",
       "   'roles': ['host', 'processor'],\n",
       "   'url': 'https://cloudferro.com/'}],\n",
       " 'extent': {'spatial': {'bbox': [[-180.0, -90.0, 180.0, 90.0]]},\n",
       "  'temporal': {'interval': [['2015-06-27T10:25:31Z', None]]}},\n",
       " 'links': [],\n",
       " 'summaries': {'gsd': [10],\n",
       "  'platform': ['sentinel-2a', 'sentinel-2b'],\n",
       "  'instruments': ['msi'],\n",
       "  'product:type': ['S2MSI2A'],\n",
       "  'constellation': ['sentinel-2'],\n",
       "  'processing:level': ['L2'],\n",
       "  'product:timeliness': ['PT24H'],\n",
       "  'product:timeliness_category': ['NRT'],\n",
       "  'sat:platform_international_designator': ['2015-028A', '2017-013A'],\n",
       "  'statistics': {'$schema': 'http://json-schema.org/draft-07/schema#',\n",
       "   'type': 'object',\n",
       "   'minItems': 0.0}},\n",
       " 'assets': {'thumbnail': {'href': 'https://s3.waw3-2.cloudferro.com/swift/v1/stac-png/S2_L2A.jpg',\n",
       "   'title': 'Sentinel-2 Level-2A',\n",
       "   'type': 'image/jpeg',\n",
       "   'roles': ['thumbnail']}}}"
      ]
     },
     "execution_count": 9,
     "metadata": {},
     "output_type": "execute_result"
    }
   ],
   "source": [
    "connection.describe_collection(collections[0][\"id\"])"
   ]
  },
  {
   "cell_type": "code",
   "execution_count": 10,
   "metadata": {},
   "outputs": [
    {
     "data": {
      "text/html": [
       "\n",
       "    <script>\n",
       "    if (!window.customElements || !window.customElements.get('openeo-file-formats')) {\n",
       "        var el = document.createElement('script');\n",
       "        el.src = \"https://cdn.jsdelivr.net/npm/@openeo/vue-components@2/assets/openeo.min.js\";\n",
       "        document.head.appendChild(el);\n",
       "\n",
       "        var font = document.createElement('font');\n",
       "        font.as = \"font\";\n",
       "        font.type = \"font/woff2\";\n",
       "        font.crossOrigin = true;\n",
       "        font.href = \"https://use.fontawesome.com/releases/v5.13.0/webfonts/fa-solid-900.woff2\"\n",
       "        document.head.appendChild(font);\n",
       "    }\n",
       "    </script>\n",
       "    <openeo-file-formats>\n",
       "        <script type=\"application/json\">{\"formats\": {\"input\": {}, \"output\": {\"JPEG\": {\"title\": \" Joint Photographic Experts Group\", \"description\": \"JPEG is an image format that uses lossy compression and is one of the most widely used image formats. Compared to other EO raster formats, it is less flexible and standardized regarding number of bands, embedding geospatial metadata, etc.\", \"gis_data_types\": [\"raster\"], \"parameters\": {\"datatype\": {\"$schema\": \"http://json-schema.org/draft-07/schema#\", \"type\": \"string\", \"enum\": [\"byte\"], \"minItems\": 0.0, \"description\": \"The values data type.\", \"required\": false, \"default\": \"byte\"}}}, \"PNG\": {\"title\": \"Portable Network Graphics (PNG)\", \"description\": \"PNG is a popular raster format used for graphics on the web. Compared to other EO raster formats, it is less flexible and standardized regarding number of bands, embedding geospatial metadata, etc.\", \"gis_data_types\": [\"raster\"], \"parameters\": {\"datatype\": {\"$schema\": \"http://json-schema.org/draft-07/schema#\", \"type\": \"string\", \"enum\": [\"byte\", \"uint16\"], \"minItems\": 0.0, \"description\": \"The values data type.\", \"required\": false, \"default\": \"byte\"}}}}}}</script>\n",
       "    </openeo-file-formats>\n",
       "    "
      ],
      "text/plain": [
       "{'input': {},\n",
       " 'output': {'JPEG': {'title': ' Joint Photographic Experts Group',\n",
       "   'description': 'JPEG is an image format that uses lossy compression and is one of the most widely used image formats. Compared to other EO raster formats, it is less flexible and standardized regarding number of bands, embedding geospatial metadata, etc.',\n",
       "   'gis_data_types': ['raster'],\n",
       "   'parameters': {'datatype': {'$schema': 'http://json-schema.org/draft-07/schema#',\n",
       "     'type': 'string',\n",
       "     'enum': ['byte'],\n",
       "     'minItems': 0.0,\n",
       "     'description': 'The values data type.',\n",
       "     'required': False,\n",
       "     'default': 'byte'}}},\n",
       "  'PNG': {'title': 'Portable Network Graphics (PNG)',\n",
       "   'description': 'PNG is a popular raster format used for graphics on the web. Compared to other EO raster formats, it is less flexible and standardized regarding number of bands, embedding geospatial metadata, etc.',\n",
       "   'gis_data_types': ['raster'],\n",
       "   'parameters': {'datatype': {'$schema': 'http://json-schema.org/draft-07/schema#',\n",
       "     'type': 'string',\n",
       "     'enum': ['byte', 'uint16'],\n",
       "     'minItems': 0.0,\n",
       "     'description': 'The values data type.',\n",
       "     'required': False,\n",
       "     'default': 'byte'}}}}}"
      ]
     },
     "execution_count": 10,
     "metadata": {},
     "output_type": "execute_result"
    }
   ],
   "source": [
    "connection.list_file_formats()"
   ]
  },
  {
   "cell_type": "code",
   "execution_count": 11,
   "metadata": {},
   "outputs": [
    {
     "data": {
      "text/html": [
       "\n",
       "    <script>\n",
       "    if (!window.customElements || !window.customElements.get('openeo-processes')) {\n",
       "        var el = document.createElement('script');\n",
       "        el.src = \"https://cdn.jsdelivr.net/npm/@openeo/vue-components@2/assets/openeo.min.js\";\n",
       "        document.head.appendChild(el);\n",
       "\n",
       "        var font = document.createElement('font');\n",
       "        font.as = \"font\";\n",
       "        font.type = \"font/woff2\";\n",
       "        font.crossOrigin = true;\n",
       "        font.href = \"https://use.fontawesome.com/releases/v5.13.0/webfonts/fa-solid-900.woff2\"\n",
       "        document.head.appendChild(font);\n",
       "    }\n",
       "    </script>\n",
       "    <openeo-processes>\n",
       "        <script type=\"application/json\">{\"show-graph\": true, \"provide-download\": false, \"processes\": []}</script>\n",
       "    </openeo-processes>\n",
       "    "
      ],
      "text/plain": [
       "[]"
      ]
     },
     "execution_count": 11,
     "metadata": {},
     "output_type": "execute_result"
    }
   ],
   "source": [
    "connection.list_processes()"
   ]
  },
  {
   "cell_type": "code",
   "execution_count": null,
   "metadata": {},
   "outputs": [],
   "source": []
  }
 ],
 "metadata": {
  "kernelspec": {
   "display_name": "py39",
   "language": "python",
   "name": "python3"
  },
  "language_info": {
   "codemirror_mode": {
    "name": "ipython",
    "version": 3
   },
   "file_extension": ".py",
   "mimetype": "text/x-python",
   "name": "python",
   "nbconvert_exporter": "python",
   "pygments_lexer": "ipython3",
   "version": "3.9.19"
  }
 },
 "nbformat": 4,
 "nbformat_minor": 2
}
