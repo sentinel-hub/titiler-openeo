{
 "cells": [
  {
   "cell_type": "markdown",
   "metadata": {},
   "source": [
    "# Manhattan Satellite Imagery Analysis with OpenEO\n",
    "\n",
    "## Overview\n",
    "\n",
    "This notebook demonstrates how to retrieve and visualize satellite imagery of Manhattan using the OpenEO API. We'll use Sentinel-2 data to create a true-color RGB image of the Manhattan area."
   ]
  },
  {
   "cell_type": "code",
   "execution_count": null,
   "metadata": {},
   "outputs": [],
   "source": [
    "# Import required packages\n",
    "\n",
    "import openeo\n",
    "from openeo.processes import process\n",
    "from IPython.display import Image"
   ]
  },
  {
   "cell_type": "markdown",
   "metadata": {},
   "source": [
    "## Connect to the OpenEO Backend\n",
    "\n",
    "We connect to the OpenEO backend service and authenticate using OpenID Connect. This establishes a connection to the remote processing service where our satellite data is stored."
   ]
  },
  {
   "cell_type": "code",
   "execution_count": null,
   "metadata": {},
   "outputs": [],
   "source": [
    "# Connect to the back-end\n",
    "\n",
    "connection = openeo.connect(\"https://openeo.ds.io\")\n",
    "# ToDo: Here you need to authenticate with authenticate_basic() or authenticate_oidc()\n",
    "connection.authenticate_oidc()"
   ]
  },
  {
   "cell_type": "markdown",
   "metadata": {},
   "source": [
    "## Define Spatial Extent\n",
    "\n",
    "We define the geographic boundaries of our area of interest using longitude and latitude coordinates. This bounding box covers the Manhattan island area of New York City."
   ]
  },
  {
   "cell_type": "code",
   "execution_count": null,
   "metadata": {},
   "outputs": [],
   "source": [
    "spatial_extent_east = -73.90\n",
    "spatial_extent_north = 40.80\n",
    "spatial_extent_south = 40.70\n",
    "spatial_extent_west = -74.00"
   ]
  },
  {
   "cell_type": "markdown",
   "metadata": {},
   "source": [
    "## Load Sentinel-2 Data\n",
    "\n",
    "We load Sentinel-2 satellite imagery for our defined area using the `load_collection_and_reduce` process. \n",
    "- We select the RGB bands (B04=Red, B03=Green, B02=Blue) for true-color visualization\n",
    "- The temporal extent covers April to December 2022\n",
    "- The \"first\" pixel selection method means we'll use the first available cloud-free pixel in the time range"
   ]
  },
  {
   "cell_type": "code",
   "execution_count": null,
   "metadata": {},
   "outputs": [],
   "source": [
    "load1 = connection.datacube_from_process(\n",
    "    \"load_collection_and_reduce\",\n",
    "    id=\"sentinel-2-global-mosaics\",\n",
    "    bands=[\"B04\", \"B03\", \"B02\"],\n",
    "    properties={},\n",
    "    spatial_extent={\n",
    "        \"east\": spatial_extent_east,\n",
    "        \"north\": spatial_extent_north,\n",
    "        \"south\": spatial_extent_south,\n",
    "        \"west\": spatial_extent_west,\n",
    "    },\n",
    "    temporal_extent=[\"2022-04-15T00:00:00Z\", \"2022-12-31T00:00:00Z\"],\n",
    "    pixel_selection=\"first\"\n",
    ")"
   ]
  },
  {
   "cell_type": "markdown",
   "metadata": {},
   "source": [
    "## Scale Image Values\n",
    "\n",
    "Raw satellite reflectance values need to be scaled to standard RGB display range (0-255). We define a processing function that:\n",
    "1. Scales the values from their original range (0-10000) to 0-255\n",
    "2. Applies truncation to ensure all values are valid integers within range"
   ]
  },
  {
   "cell_type": "code",
   "execution_count": null,
   "metadata": {},
   "outputs": [],
   "source": [
    "def process1(x, context = None):\n",
    "    data1 = process(\"linear_scale_range\", inputMax = 10000, inputMin = 0, outputMax = 255, x = x)\n",
    "    data2 = process(\"trunc\", x = data1)\n",
    "    return data2"
   ]
  },
  {
   "cell_type": "markdown",
   "metadata": {},
   "source": [
    "## Apply Processing and Enhance Visual Appearance\n",
    "\n",
    "We apply the scaling function to our data cube, then use a color formula to enhance the visual appearance of the image. The color formula applies:\n",
    "- Gamma correction (RGB 1.5) to adjust brightness and contrast\n",
    "- Sigmoidal contrast enhancement (RGB 10 0.3) to improve detail visibility\n",
    "- Saturation adjustment to enhance color vibrancy"
   ]
  },
  {
   "cell_type": "code",
   "execution_count": null,
   "metadata": {},
   "outputs": [],
   "source": [
    "processed = load1.apply(process = process1)\n",
    "\n",
    "color = processed.process(\n",
    "    \"color_formula\",\n",
    "    data=processed,\n",
    "    formula=\"Gamma RGB 1.5 Sigmoidal RGB 10 0.3 Saturation 1\",\n",
    ")"
   ]
  },
  {
   "cell_type": "markdown",
   "metadata": {},
   "source": [
    "## Save and Display Result\n",
    "\n",
    "Finally, we save the processed image as a PNG file and display it. This shows the true-color satellite view of Manhattan and surrounding areas."
   ]
  },
  {
   "cell_type": "code",
   "execution_count": null,
   "metadata": {},
   "outputs": [],
   "source": [
    "save5 = color.save_result(format=\"PNG\")\n",
    "\n",
    "# The process can be executed synchronously (see below), as batch job or as web service now\n",
    "result = connection.download(save5)\n",
    "Image(result)"
   ]
  },
  {
   "cell_type": "markdown",
   "metadata": {},
   "source": [
    "## Conclusion\n",
    "\n",
    "This notebook demonstrates how to use OpenEO to access, process, and visualize satellite imagery for urban areas. The workflow can be extended to include additional analysis, such as:\n",
    "\n",
    "- Time series analysis to observe changes over multiple dates\n",
    "- Land cover classification to identify different urban features\n",
    "- Spectral indices to analyze vegetation, water, or built-up areas\n",
    "- Image segmentation to extract specific features"
   ]
  }
 ],
 "metadata": {
  "kernelspec": {
   "display_name": "Python 3",
   "language": "python",
   "name": "python3"
  },
  "language_info": {
   "codemirror_mode": {
    "name": "ipython",
    "version": 3
   },
   "file_extension": ".py",
   "mimetype": "text/x-python",
   "name": "python",
   "nbconvert_exporter": "python",
   "pygments_lexer": "ipython3",
   "version": "3.8.10"
  }
 },
 "nbformat": 4,
 "nbformat_minor": 4
}
