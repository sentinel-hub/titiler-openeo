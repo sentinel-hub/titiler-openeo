{
 "cells": [
  {
   "cell_type": "code",
   "execution_count": null,
   "metadata": {},
   "outputs": [],
   "source": [
    "# Import required packages\n",
    "import openeo\n",
    "from openeo.processes import process\n",
    "from IPython.display import Image\n",
    "\n",
    "# Connect to the back-end\n",
    "connection = openeo.connect(\"http://0.0.0.0:8081\")\n",
    "connection.authenticate_basic(\"anonymous\", \"test123\")\n",
    "# connection.authenticate_oidc()\n",
    "\n",
    "spatial_extent_east = -73.90\n",
    "spatial_extent_north = 40.80\n",
    "spatial_extent_south = 40.70\n",
    "spatial_extent_west = -74.00\n",
    "\n",
    "load1 = connection.load_collection(\n",
    "    collection_id=\"sentinel-2-global-mosaics\",\n",
    "    bands=[\"B04\", \"B03\", \"B02\"],\n",
    "    properties={},\n",
    "    spatial_extent={\n",
    "        \"east\": spatial_extent_east,\n",
    "        \"north\": spatial_extent_north,\n",
    "        \"south\": spatial_extent_south,\n",
    "        \"west\": spatial_extent_west,\n",
    "    },\n",
    "    temporal_extent=[\"2022-04-15T00:00:00Z\", \"2022-12-31T00:00:00Z\"],\n",
    ")\n",
    "reduce = load1.process(\"apply_pixel_selection\", data=load1, pixel_selection=\"first\")\n",
    "color = reduce.process(\n",
    "    \"color_formula\",\n",
    "    data=reduce,\n",
    "    formula=\"Gamma RGB 3.4 Saturation 1 Sigmoidal RGB 25 0.38\",\n",
    ")\n",
    "save5 = color.save_result(format=\"PNG\")\n",
    "\n",
    "# The process can be executed synchronously (see below), as batch job or as web service now\n",
    "result = connection.download(save5)\n",
    "Image(result)\n"
   ]
  }
 ],
 "metadata": {
  "kernelspec": {
   "display_name": ".venv",
   "language": "python",
   "name": "python3"
  },
  "language_info": {
   "codemirror_mode": {
    "name": "ipython",
    "version": 3
   },
   "file_extension": ".py",
   "mimetype": "text/x-python",
   "name": "python",
   "nbconvert_exporter": "python",
   "pygments_lexer": "ipython3",
   "version": "3.10.12"
  }
 },
 "nbformat": 4,
 "nbformat_minor": 2
}
